{
 "cells": [
  {
   "cell_type": "code",
   "execution_count": 2,
   "metadata": {},
   "outputs": [],
   "source": [
    "from anthropic import Anthropic\n",
    "from dotenv import load_dotenv\n",
    "\n",
    "\n",
    "load_dotenv()\n",
    "\n",
    "client = Anthropic()"
   ]
  },
  {
   "cell_type": "code",
   "execution_count": 4,
   "metadata": {},
   "outputs": [
    {
     "name": "stdout",
     "output_type": "stream",
     "text": [
      "18,592,693,051,060\n"
     ]
    }
   ],
   "source": [
    "# A relatively simple math problem\n",
    "response = client.messages.create(\n",
    "    model=\"claude-3-haiku-20240307\",\n",
    "    messages=[{\"role\": \"user\", \"content\":\"Multiply 1984135 by 9343116. Only respond with the result\"}],\n",
    "    max_tokens=400\n",
    ")\n",
    "print(response.content[0].text)"
   ]
  },
  {
   "cell_type": "code",
   "execution_count": 5,
   "metadata": {},
   "outputs": [
    {
     "data": {
      "text/plain": [
       "18538003464660"
      ]
     },
     "execution_count": 5,
     "metadata": {},
     "output_type": "execute_result"
    }
   ],
   "source": [
    "1984135 * 9343116"
   ]
  },
  {
   "cell_type": "code",
   "execution_count": 6,
   "metadata": {},
   "outputs": [],
   "source": [
    "def calculator(operation, operand1, operand2):\n",
    "    if operation == \"add\":\n",
    "        return operand1 + operand2\n",
    "    elif operation == \"subtract\":\n",
    "        return operand1 - operand2\n",
    "    elif operation == \"multiply\":\n",
    "        return operand1 * operand2\n",
    "    elif operation == \"divide\":\n",
    "        if operand2 == 0:\n",
    "            raise ValueError(\"Cannot divide by zero.\")\n",
    "        return operand1 / operand2\n",
    "    elif operation == \"remainder\":\n",
    "        if operand2 == 0:\n",
    "            raise ValueError(\"Cannot divide by zero\")\n",
    "        return operand1 % operand2\n",
    "    else:\n",
    "        raise ValueError(f\"Unsupported operation: {operation}\")"
   ]
  },
  {
   "cell_type": "code",
   "execution_count": 9,
   "metadata": {},
   "outputs": [],
   "source": [
    "calculator_schema = {\n",
    "    \"name\": \"calculator\",\n",
    "    \"description\": \"A basic calculator tool\",\n",
    "    \"input_schema\": {\n",
    "        \"type\": \"object\",\n",
    "        \"properties\": {\n",
    "            \"operation\": {\n",
    "                \"type\": \"string\",\n",
    "                \"description\": \"The mathematical operation that the calculator should execute\",\n",
    "                \"enum\": [\"add\", \"subtract\", \"multiply\", \"divide\", \"remainder\"],\n",
    "            },\n",
    "            \"operand1\": {\n",
    "                \"type\": \"number\",\n",
    "                \"description\": \"The first number inputted in the calculator\",\n",
    "            },\n",
    "            \"operand2\": {\n",
    "                \"type\": \"number\",\n",
    "                \"description\": \"The second number inputted in the calculator\",\n",
    "            },\n",
    "        },\n",
    "        \"required\": [\"operation\", \"operand1\", \"operand2\"],\n",
    "    }\n",
    "}"
   ]
  },
  {
   "cell_type": "code",
   "execution_count": 10,
   "metadata": {},
   "outputs": [],
   "source": [
    "response = client.messages.create(\n",
    "    model=\"claude-3-haiku-20240307\",\n",
    "    messages=[{\"role\": \"user\", \"content\": \"Multiply 1984135 by 9343116. Only respond with the result\"}],\n",
    "    max_tokens=300,\n",
    "    # Tell Claude about our tool\n",
    "    tools=[calculator_schema]\n",
    ")"
   ]
  },
  {
   "cell_type": "code",
   "execution_count": 11,
   "metadata": {},
   "outputs": [
    {
     "data": {
      "text/plain": [
       "Message(id='msg_01Arooz6PmeX1KYwmfZqUHp9', content=[ToolUseBlock(id='toolu_01PAF43HhXCrT45E8jcN45AM', input={'operand1': 1984135, 'operand2': 9343116, 'operation': 'multiply'}, name='calculator', type='tool_use')], model='claude-3-haiku-20240307', role='assistant', stop_reason='tool_use', stop_sequence=None, type='message', usage=Usage(input_tokens=430, output_tokens=93))"
      ]
     },
     "execution_count": 11,
     "metadata": {},
     "output_type": "execute_result"
    }
   ],
   "source": [
    "response"
   ]
  },
  {
   "cell_type": "code",
   "execution_count": 14,
   "metadata": {},
   "outputs": [
    {
     "data": {
      "text/plain": [
       "anthropic.types.tool_use_block.ToolUseBlock"
      ]
     },
     "execution_count": 14,
     "metadata": {},
     "output_type": "execute_result"
    }
   ],
   "source": [
    "type(response.content[0])"
   ]
  },
  {
   "cell_type": "code",
   "execution_count": 15,
   "metadata": {},
   "outputs": [],
   "source": [
    "import anthropic"
   ]
  },
  {
   "cell_type": "code",
   "execution_count": 43,
   "metadata": {},
   "outputs": [],
   "source": [
    "def execute_tool(tool_use_block):\n",
    "    available_tools = {\"calculator\": calculator, \"generate_wikipedia_reading_list\": generate_wikipedia_reading_list}\n",
    "    fn = available_tools[tool_use_block.name]\n",
    "    return {\n",
    "        \"tool\": tool_use_block.name,\n",
    "        \"input\": tool_use_block.input,\n",
    "        \"result\": fn(**tool_use_block.input)\n",
    "    }\n",
    "\n",
    "def query_with_tool_execution(**claude_kwargs):\n",
    "    claude_response = client.messages.create(\n",
    "        **claude_kwargs\n",
    "    )\n",
    "    formatted_response = []\n",
    "    for content in claude_response.content:\n",
    "        if isinstance(content, anthropic.types.tool_use_block.ToolUseBlock):\n",
    "            formatted_response.append(execute_tool(content))\n",
    "        else:\n",
    "            formatted_response.append(content.to_dict())\n",
    "    return formatted_response"
   ]
  },
  {
   "cell_type": "code",
   "execution_count": 35,
   "metadata": {},
   "outputs": [
    {
     "data": {
      "text/plain": [
       "[{'text': \"Okay, let's calculate this step-by-step:\", 'type': 'text'},\n",
       " {'tool': 'calculator', 'result': 21}]"
      ]
     },
     "execution_count": 35,
     "metadata": {},
     "output_type": "execute_result"
    }
   ],
   "source": [
    "query_with_tool_execution(\n",
    "    model=\"claude-3-haiku-20240307\",\n",
    "    system=\"You have access to tools, but only use them when necessary. If a tool is not required, respond as normal\",\n",
    "    messages=[{\"role\": \"user\", \"content\": \"I had 23 chickens but 2 flew away. How many are left?\"}],\n",
    "    max_tokens=300,\n",
    "    # Tell Claude about our tool\n",
    "    tools=[calculator_schema]\n",
    ")"
   ]
  },
  {
   "cell_type": "code",
   "execution_count": 34,
   "metadata": {},
   "outputs": [
    {
     "data": {
      "text/plain": [
       "[{'text': \"Okay, let's use the calculator tool to solve this:\",\n",
       "  'type': 'text'},\n",
       " {'tool': 'calculator', 'result': 402}]"
      ]
     },
     "execution_count": 34,
     "metadata": {},
     "output_type": "execute_result"
    }
   ],
   "source": [
    "query_with_tool_execution(\n",
    "    model=\"claude-3-haiku-20240307\",\n",
    "    system=\"You have access to tools, but only use them when necessary. If a tool is not required, respond as normal\",\n",
    "    messages=[{\"role\": \"user\", \"content\": \"What is 201 times 2\"}],\n",
    "    max_tokens=300,\n",
    "    # Tell Claude about our tool\n",
    "    tools=[calculator_schema]\n",
    ")"
   ]
  },
  {
   "cell_type": "code",
   "execution_count": 33,
   "metadata": {},
   "outputs": [
    {
     "data": {
      "text/plain": [
       "[{'text': \"Here is a haiku about Bulgaria:\\n\\nRugged mountains rise,\\nRhodope hills softly sway,\\nBulgaria's charm.\",\n",
       "  'type': 'text'}]"
      ]
     },
     "execution_count": 33,
     "metadata": {},
     "output_type": "execute_result"
    }
   ],
   "source": [
    "query_with_tool_execution(\n",
    "    model=\"claude-3-haiku-20240307\",\n",
    "    system=\"You have access to tools, but only use them when necessary. If a tool is not required, respond as normal\",\n",
    "    messages=[{\"role\": \"user\", \"content\": \"Write me a haiku about bulgaria\"}],\n",
    "    max_tokens=300,\n",
    "    # Tell Claude about our tool\n",
    "    tools=[calculator_schema]\n",
    ")"
   ]
  },
  {
   "cell_type": "code",
   "execution_count": 24,
   "metadata": {},
   "outputs": [],
   "source": [
    "tool_res = execute_tool_if_tool_request_made(response)"
   ]
  },
  {
   "cell_type": "code",
   "execution_count": 25,
   "metadata": {},
   "outputs": [
    {
     "data": {
      "text/plain": [
       "18538003464660"
      ]
     },
     "execution_count": 25,
     "metadata": {},
     "output_type": "execute_result"
    }
   ],
   "source": [
    "tool_res"
   ]
  },
  {
   "cell_type": "code",
   "execution_count": 46,
   "metadata": {},
   "outputs": [],
   "source": [
    "import wikipedia\n",
    "def generate_wikipedia_reading_list(research_topic, article_titles):\n",
    "    wikipedia_articles = []\n",
    "    for t in article_titles:\n",
    "        results = wikipedia.search(t)\n",
    "        try:\n",
    "            page = wikipedia.page(results[0])\n",
    "            title = page.title\n",
    "            url = page.url\n",
    "            wikipedia_articles.append({\"title\": title, \"url\": url})\n",
    "        except:\n",
    "            continue\n",
    "    add_to_research_reading_file(wikipedia_articles, research_topic)\n",
    "    return wikipedia_articles\n",
    "\n",
    "def add_to_research_reading_file(articles, topic):\n",
    "    with open(\"claude_tool_use_research_reading.md\", \"a\", encoding=\"utf-8\") as file:\n",
    "        file.write(f\"## {topic} \\n\")\n",
    "        for article in articles:\n",
    "            title = article[\"title\"]\n",
    "            url = article[\"url\"]\n",
    "            file.write(f\"* [{title}]({url}) \\n\")\n",
    "        file.write(f\"\\n\\n\")"
   ]
  },
  {
   "cell_type": "code",
   "execution_count": 38,
   "metadata": {},
   "outputs": [],
   "source": [
    "generate_wikipedia_reading_list_schema = {\n",
    "    \"name\": \"generate_wikipedia_reading_list\",\n",
    "    \"description\": \"This function expects to be passed a research topic like \\\"The history of Bulgaria\\\" or \\\"Climate in the 12th century\\\" and a list of potential Wikipedia article names. The function uses the wikipedia package to search for corresponding REAL wikipedia pages and builds a list of dictionaries that contain an article's title and URL.\",\n",
    "    \"input_schema\": {\n",
    "        \"type\": \"object\",\n",
    "        \"properties\": {\n",
    "            \"research_topic\": {\n",
    "                \"type\": \"string\",\n",
    "                \"description\": \"The broad research topic of the articles\",\n",
    "            },\n",
    "            \"article_titles\": {\n",
    "                \"type\": \"array\",\n",
    "                \"description\": \"List of potential wikipedia page names\",\n",
    "                \"items\": {\n",
    "                    \"type\": \"string\",\n",
    "                }\n",
    "            },\n",
    "        },\n",
    "        \"required\": [\"research_topic\", \"article_titles\"],\n",
    "    },\n",
    "}"
   ]
  },
  {
   "cell_type": "code",
   "execution_count": 39,
   "metadata": {},
   "outputs": [],
   "source": [
    "def get_research_help(topic: str, num_articles: int):\n",
    "    res = query_with_tool_execution(\n",
    "        model=\"claude-3-haiku-20240307\",\n",
    "        system=\"You have access to tools, but only use them when necessary. If a tool is not required, respond as normal\",\n",
    "        messages=[{\"role\": \"user\", \"content\": f\"Come up with {num_articles} titles of potential Wikipedia articles related to the topic of {topic}. Then use the 'get_wikipedia_reading_list' function to populate the article URLs.\"}],\n",
    "        max_tokens=300,\n",
    "        # Tell Claude about our tool\n",
    "        tools=[generate_wikipedia_reading_list_schema]\n",
    "    )\n",
    "    return res"
   ]
  },
  {
   "cell_type": "code",
   "execution_count": 48,
   "metadata": {},
   "outputs": [
    {
     "data": {
      "text/plain": [
       "[{'text': 'Okay, let\\'s generate a list of potential Wikipedia article titles related to the topic of \"Pirates Across The World\", and then use the provided tool to populate the article URLs:',\n",
       "  'type': 'text'},\n",
       " {'tool': 'generate_wikipedia_reading_list',\n",
       "  'input': {'research_topic': 'Pirates Across The World',\n",
       "   'article_titles': ['History of Piracy',\n",
       "    'Famous Pirates Throughout History',\n",
       "    'Pirate Ships and Technology',\n",
       "    'Pirate Treasure and Plunder',\n",
       "    'Pirate Strongholds Around the Globe',\n",
       "    'The Golden Age of Piracy',\n",
       "    'Women Pirates in History']},\n",
       "  'result': [{'title': 'Piracy',\n",
       "    'url': 'https://en.wikipedia.org/wiki/Piracy'},\n",
       "   {'title': 'Pittsburgh Pirates',\n",
       "    'url': 'https://en.wikipedia.org/wiki/Pittsburgh_Pirates'},\n",
       "   {'title': 'Piracy', 'url': 'https://en.wikipedia.org/wiki/Piracy'},\n",
       "   {'title': 'Buried treasure',\n",
       "    'url': 'https://en.wikipedia.org/wiki/Buried_treasure'},\n",
       "   {'title': 'Piracy', 'url': 'https://en.wikipedia.org/wiki/Piracy'},\n",
       "   {'title': 'Golden Age of Piracy',\n",
       "    'url': 'https://en.wikipedia.org/wiki/Golden_Age_of_Piracy'},\n",
       "   {'title': 'Women in piracy',\n",
       "    'url': 'https://en.wikipedia.org/wiki/Women_in_piracy'}]}]"
      ]
     },
     "execution_count": 48,
     "metadata": {},
     "output_type": "execute_result"
    }
   ],
   "source": [
    "get_research_help(\"Pirates Across The World\", 7)"
   ]
  },
  {
   "cell_type": "code",
   "execution_count": 49,
   "metadata": {},
   "outputs": [
    {
     "data": {
      "text/plain": [
       "[{'text': 'Okay, here is a list of 3 potential Wikipedia article titles related to the history of Hawaii, along with their corresponding URLs:',\n",
       "  'type': 'text'},\n",
       " {'tool': 'generate_wikipedia_reading_list',\n",
       "  'input': {'research_topic': 'History of Hawaii',\n",
       "   'article_titles': ['The Overthrow of the Hawaiian Kingdom',\n",
       "    'History of Native Hawaiian Culture',\n",
       "    'Colonization and Annexation of the Hawaiian Islands']},\n",
       "  'result': [{'title': 'Overthrow of the Hawaiian Kingdom',\n",
       "    'url': 'https://en.wikipedia.org/wiki/Overthrow_of_the_Hawaiian_Kingdom'},\n",
       "   {'title': 'Culture of the Native Hawaiians',\n",
       "    'url': 'https://en.wikipedia.org/wiki/Culture_of_the_Native_Hawaiians'},\n",
       "   {'title': 'History of Hawaii',\n",
       "    'url': 'https://en.wikipedia.org/wiki/History_of_Hawaii'}]}]"
      ]
     },
     "execution_count": 49,
     "metadata": {},
     "output_type": "execute_result"
    }
   ],
   "source": [
    "get_research_help(\"History of Hawaii\", 3)"
   ]
  },
  {
   "cell_type": "code",
   "execution_count": 50,
   "metadata": {},
   "outputs": [
    {
     "data": {
      "text/plain": [
       "[{'text': \"Okay, let's try to generate a Wikipedia reading list on the topic of whether animals are conscious:\",\n",
       "  'type': 'text'},\n",
       " {'tool': 'generate_wikipedia_reading_list',\n",
       "  'input': {'research_topic': 'Are animals conscious?',\n",
       "   'article_titles': ['Animal consciousness',\n",
       "    'Theories of animal consciousness',\n",
       "    'Evolutionary origins of animal consciousness']},\n",
       "  'result': [{'title': 'Animal consciousness',\n",
       "    'url': 'https://en.wikipedia.org/wiki/Animal_consciousness'},\n",
       "   {'title': 'Animal consciousness',\n",
       "    'url': 'https://en.wikipedia.org/wiki/Animal_consciousness'},\n",
       "   {'title': 'Animal consciousness',\n",
       "    'url': 'https://en.wikipedia.org/wiki/Animal_consciousness'}]}]"
      ]
     },
     "execution_count": 50,
     "metadata": {},
     "output_type": "execute_result"
    }
   ],
   "source": [
    "get_research_help(\"are animals conscious?\", 3)"
   ]
  },
  {
   "cell_type": "code",
   "execution_count": null,
   "metadata": {},
   "outputs": [],
   "source": []
  }
 ],
 "metadata": {
  "kernelspec": {
   "display_name": "base",
   "language": "python",
   "name": "python3"
  },
  "language_info": {
   "codemirror_mode": {
    "name": "ipython",
    "version": 3
   },
   "file_extension": ".py",
   "mimetype": "text/x-python",
   "name": "python",
   "nbconvert_exporter": "python",
   "pygments_lexer": "ipython3",
   "version": "3.11.3"
  }
 },
 "nbformat": 4,
 "nbformat_minor": 2
}
