{
 "cells": [
  {
   "cell_type": "code",
   "execution_count": 8,
   "metadata": {},
   "outputs": [],
   "source": [
    "import anthropic\n",
    "\n",
    "client = anthropic.Anthropic()"
   ]
  },
  {
   "cell_type": "code",
   "execution_count": 2,
   "metadata": {},
   "outputs": [
    {
     "data": {
      "text/plain": [
       "False"
      ]
     },
     "execution_count": 2,
     "metadata": {},
     "output_type": "execute_result"
    }
   ],
   "source": [
    "from dotenv import load_dotenv\n",
    "load_dotenv()"
   ]
  },
  {
   "cell_type": "code",
   "execution_count": 4,
   "metadata": {},
   "outputs": [],
   "source": [
    "import wikipedia"
   ]
  },
  {
   "cell_type": "code",
   "execution_count": 16,
   "metadata": {},
   "outputs": [],
   "source": [
    "print_article_schema = {\n",
    "    \"name\": \"print_article_info\",\n",
    "    \"description\": \"Prints the following information for an article:\\n- The main subject of the article\\n- A summary of the article\\n- A list of keywords and topics mentioned in the article\\n- A list of category classifications for the article (entertainment, politics, business, etc.) along with a classification score (i.e., how strongly the topic falls into that category)\",\n",
    "    \"input_schema\": {\n",
    "        \"type\": \"object\",\n",
    "        \"properties\": {\n",
    "            \"main_subject\": {\n",
    "                \"type\": \"string\",\n",
    "                \"description\": \"The main subject of the article\"\n",
    "            },\n",
    "            \"summary\": {\n",
    "                \"type\": \"string\",\n",
    "                \"description\": \"A summary of the article\",\n",
    "            },\n",
    "            \"keywords_and_topics_list\": {\n",
    "                \"type\": \"array\",\n",
    "                \"description\": \"A list of keywords and topics found in the article\",\n",
    "                \"items\": {\n",
    "                    \"type\": \"string\",\n",
    "                }\n",
    "            },\n",
    "            \"category_scores\": {\n",
    "                \"type\": \"object\",\n",
    "                \"properties\": {\n",
    "                    \"Politics\": {\"type\": \"number\", \"description\": \"The politics category score, ranging from 0.0 to 1.0.\"},\n",
    "                    \"Sports\": {\"type\": \"number\", \"description\": \"The sports category score, ranging from 0.0 to 1.0.\"},\n",
    "                    \"Technology\": {\"type\": \"number\", \"description\": \"The technology category score, ranging from 0.0 to 1.0.\"},\n",
    "                    \"Entertainment\": {\"type\": \"number\", \"description\": \"The entertainment category score, ranging from 0.0 to 1.0.\"},\n",
    "                    \"Business\": {\"type\": \"number\", \"description\": \"The business category score, ranging from 0.0 to 1.0.\"},\n",
    "                },\n",
    "            },\n",
    "        },\n",
    "        \"required\": [\"main_subject\", \"summary\", \"keywords_and_topics_list\", \"category_scores\"],\n",
    "    }\n",
    "}"
   ]
  },
  {
   "cell_type": "code",
   "execution_count": 10,
   "metadata": {},
   "outputs": [],
   "source": [
    "import json"
   ]
  },
  {
   "cell_type": "code",
   "execution_count": 12,
   "metadata": {},
   "outputs": [],
   "source": [
    "def generate_json_for_article(subject):\n",
    "    page = wikipedia.page(subject, auto_suggest=True)\n",
    "    query = f\"<content>{page.content}</content> Use the print_article_info tool. Example categories are Politics, Sports, Technology, Entertainment, Business.\"\n",
    "    response = client.messages.create(\n",
    "        model=\"claude-3-haiku-20240307\",\n",
    "        messages=[{\"role\": \"user\", \"content\": query}],\n",
    "        max_tokens=4096,\n",
    "        # Tell Claude about our tool\n",
    "        tools=[print_article_schema],\n",
    "        tool_choice = {\"type\": \"tool\", \"name\": \"print_article_info\"}\n",
    "    )\n",
    "    return response.content[-1].input"
   ]
  },
  {
   "cell_type": "code",
   "execution_count": 20,
   "metadata": {},
   "outputs": [
    {
     "data": {
      "text/plain": [
       "{'main_subject': 'Overview of New York City',\n",
       " 'summary': \"New York City is the most populous city in the United States, located at the southern tip of New York State on one of the world's largest natural harbors. The city comprises five boroughs and is a global center of finance, commerce, culture, media, and the arts. New York City has a long and diverse history, dating back to its founding as a Dutch colonial settlement in the 17th century. It has grown to become a major hub of international trade, immigration, and innovation, with a diverse population and vibrant cultural scene.\",\n",
       " 'keywords_and_topics_list': ['New York City',\n",
       "  'United States',\n",
       "  'New York',\n",
       "  'borough',\n",
       "  'finance',\n",
       "  'commerce',\n",
       "  'culture',\n",
       "  'media',\n",
       "  'arts',\n",
       "  'history',\n",
       "  'Dutch colonial',\n",
       "  'trade',\n",
       "  'immigration',\n",
       "  'innovation',\n",
       "  'diversity',\n",
       "  'culture'],\n",
       " 'category_scores': {'Business': 0.8,\n",
       "  'Entertainment': 0.7,\n",
       "  'Politics': 0.5,\n",
       "  'Sports': 0.3,\n",
       "  'Technology': 0.6}}"
      ]
     },
     "execution_count": 20,
     "metadata": {},
     "output_type": "execute_result"
    }
   ],
   "source": [
    "generate_json_for_article(\"New York Citty\")"
   ]
  },
  {
   "cell_type": "code",
   "execution_count": 37,
   "metadata": {},
   "outputs": [],
   "source": [
    "translate_schema = {\n",
    "    \"name\": \"print_translations\",\n",
    "    \"description\": \"This function takes in translations of the same word or phrase in english, french, german, spanish and italian, and prints them.\",\n",
    "    \"input_schema\": {\n",
    "        \"type\": \"object\",\n",
    "        \"properties\": {\n",
    "            \"english\": {\n",
    "                \"type\": \"string\",\n",
    "                \"description\": \"The word or phrase to be printed, in English\",\n",
    "            },\n",
    "            \"french\": {\n",
    "                \"type\": \"string\",\n",
    "                \"description\": \"The word or phrase to be printed, in French\",\n",
    "            },\n",
    "            \"german\": {\n",
    "                \"type\": \"string\",\n",
    "                \"description\": \"The word or phrase to be printed, in German\"\n",
    "            },\n",
    "            \"spanish\": {\n",
    "                \"type\": \"string\",\n",
    "                \"description\": \"The word or phrase to be printed, in Spanish\"\n",
    "            },\n",
    "            \"italian\": {\n",
    "                \"type\": \"string\",\n",
    "                \"description\": \"The word or phrase to be printed, in Italian\"\n",
    "            },\n",
    "        },\n",
    "        \"required\": [\"english\", \"french\", \"german\", \"spanish\", \"italian\"],\n",
    "    },\n",
    "}\n",
    "\n",
    "def translate(word_or_phrase: str):\n",
    "    query = f\"<text>{word_or_phrase}</text>\\n\\nUse the print_translations tool\"\n",
    "    response = client.messages.create(\n",
    "        model=\"claude-3-haiku-20240307\",\n",
    "        messages=[{\"role\": \"user\", \"content\": query}],\n",
    "        max_tokens=100,\n",
    "        # Tell Claude about our tool\n",
    "        tools=[translate_schema],\n",
    "        tool_choice = {\"type\": \"tool\", \"name\": \"print_translations\"}\n",
    "    )\n",
    "    return response.content[-1].input"
   ]
  },
  {
   "cell_type": "code",
   "execution_count": 38,
   "metadata": {},
   "outputs": [
    {
     "data": {
      "text/plain": [
       "{'english': 'tomato',\n",
       " 'french': 'tomate',\n",
       " 'german': 'Tomate',\n",
       " 'spanish': 'tomate'}"
      ]
     },
     "execution_count": 38,
     "metadata": {},
     "output_type": "execute_result"
    }
   ],
   "source": [
    "translate(\"Домат\")"
   ]
  },
  {
   "cell_type": "code",
   "execution_count": null,
   "metadata": {},
   "outputs": [],
   "source": []
  }
 ],
 "metadata": {
  "kernelspec": {
   "display_name": "Python 3",
   "language": "python",
   "name": "python3"
  },
  "language_info": {
   "codemirror_mode": {
    "name": "ipython",
    "version": 3
   },
   "file_extension": ".py",
   "mimetype": "text/x-python",
   "name": "python",
   "nbconvert_exporter": "python",
   "pygments_lexer": "ipython3",
   "version": "3.11.3"
  }
 },
 "nbformat": 4,
 "nbformat_minor": 2
}
